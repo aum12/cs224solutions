{
 "cells": [
  {
   "cell_type": "code",
   "execution_count": 1,
   "metadata": {
    "collapsed": true
   },
   "outputs": [],
   "source": [
    "import tensorflow as tf"
   ]
  },
  {
   "cell_type": "code",
   "execution_count": 4,
   "metadata": {
    "collapsed": false
   },
   "outputs": [],
   "source": [
    "import numpy as np\n",
    "\n",
    "\n",
    "m1 = tf.constant([[3., 3.]])\n",
    "m2 = tf.constant([[2.], [2.]])\n",
    "\n",
    "product = tf.matmul(m1,m2)"
   ]
  },
  {
   "cell_type": "code",
   "execution_count": 6,
   "metadata": {
    "collapsed": false
   },
   "outputs": [
    {
     "name": "stdout",
     "output_type": "stream",
     "text": [
      "[[ 12.]]\n"
     ]
    }
   ],
   "source": [
    "sess = tf.Session()\n",
    "\n",
    "result = sess.run(product)\n",
    "print result\n",
    "\n",
    "sess.close()"
   ]
  },
  {
   "cell_type": "code",
   "execution_count": 11,
   "metadata": {
    "collapsed": false
   },
   "outputs": [
    {
     "name": "stdout",
     "output_type": "stream",
     "text": [
      "[[1001 1002]\n",
      " [   3    4]]\n",
      "(2, 2)\n",
      "4\n"
     ]
    }
   ],
   "source": [
    "a  = np.array([[1001, 1002], [3, 4]])\n",
    "print a\n",
    "print a.shape\n",
    "print a.size"
   ]
  },
  {
   "cell_type": "code",
   "execution_count": 22,
   "metadata": {
    "collapsed": false
   },
   "outputs": [
    {
     "name": "stdout",
     "output_type": "stream",
     "text": [
      "[[ 1.   2.   3.   4.   5. ]\n",
      " [ 3.   3.5  4.   4.5  5. ]]\n"
     ]
    }
   ],
   "source": [
    "a = np.arange(5.,51.,5.).reshape((2,5))\n",
    "d = np.array([[5.], [10.]])\n",
    "tfa = tf.convert_to_tensor(a, dtype=tf.float32)\n",
    "tfd = tf.convert_to_tensor(d, dtype=tf.float32)\n",
    "\n",
    "out = tf.divide(tfa,tfd)\n",
    "\n",
    "sess = tf.Session()\n",
    "result = sess.run([tfa, out]) \n",
    "\n",
    "print result[1]"
   ]
  },
  {
   "cell_type": "code",
   "execution_count": null,
   "metadata": {
    "collapsed": true
   },
   "outputs": [],
   "source": []
  }
 ],
 "metadata": {
  "kernelspec": {
   "display_name": "Python 2",
   "language": "python",
   "name": "python2"
  },
  "language_info": {
   "codemirror_mode": {
    "name": "ipython",
    "version": 2
   },
   "file_extension": ".py",
   "mimetype": "text/x-python",
   "name": "python",
   "nbconvert_exporter": "python",
   "pygments_lexer": "ipython2",
   "version": "2.7.6"
  }
 },
 "nbformat": 4,
 "nbformat_minor": 2
}
